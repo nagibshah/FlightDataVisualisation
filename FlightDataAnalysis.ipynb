{
 "cells": [
  {
   "cell_type": "markdown",
   "metadata": {},
   "source": [
    "# create a network graph of flight data"
   ]
  },
  {
   "cell_type": "code",
   "execution_count": 2,
   "metadata": {
    "collapsed": true
   },
   "outputs": [],
   "source": [
    "import sqlalchemy as sa\n",
    "import pandas as pd\n",
    "import pprint\n",
    "from datetime import datetime\n",
    "import time\n",
    "from datetime import timedelta\n",
    "import numpy as np\n",
    "import seaborn as sns\n",
    "import matplotlib.pyplot as plt\n",
    "import networkx as nx\n",
    "import math\n",
    "from networkx.drawing.nx_agraph import graphviz_layout\n",
    "\n",
    "CONNECTION_STRING_SQLALCHEMY = 'postgresql://localhost/FlightData'\n",
    "con = sa.create_engine(CONNECTION_STRING_SQLALCHEMY)"
   ]
  },
  {
   "cell_type": "code",
   "execution_count": 3,
   "metadata": {
    "collapsed": true
   },
   "outputs": [],
   "source": [
    "# helper functions \n",
    "def runQuery(sql): \n",
    "    conn = sa.create_engine(CONNECTION_STRING_SQLALCHEMY)\n",
    "    retVal = None\n",
    "    result = pd.read_sql(sql, conn,params=None)\n",
    "    retVal = result\n",
    "    return retVal\n",
    "\n",
    "def setInEdges(collection, source):\n",
    "    for edge in collection: \n",
    "        # create a tuple of (source, target)\n",
    "        edgeTup = (source, edge.text)\n",
    "        edgeList.append(edgeTup)\n",
    "        #citeSources.append(source)\n",
    "        #citeTargets.append(edge.text)\n",
    "\n",
    "def setOutEdges(collection, target):\n",
    "    for edge in collection:\n",
    "        edgeTup = (edge.text, target)\n",
    "        edgeList.append(edgeTup)\n",
    "        #citeSources.append(edge.text)\n",
    "        #citeTargets.append(target)"
   ]
  },
  {
   "cell_type": "code",
   "execution_count": 114,
   "metadata": {},
   "outputs": [
    {
     "data": {
      "text/html": [
       "<div>\n",
       "<style>\n",
       "    .dataframe thead tr:only-child th {\n",
       "        text-align: right;\n",
       "    }\n",
       "\n",
       "    .dataframe thead th {\n",
       "        text-align: left;\n",
       "    }\n",
       "\n",
       "    .dataframe tbody tr th {\n",
       "        vertical-align: top;\n",
       "    }\n",
       "</style>\n",
       "<table border=\"1\" class=\"dataframe\">\n",
       "  <thead>\n",
       "    <tr style=\"text-align: right;\">\n",
       "      <th></th>\n",
       "      <th>index</th>\n",
       "      <th>iata</th>\n",
       "      <th>airport</th>\n",
       "      <th>city</th>\n",
       "      <th>state</th>\n",
       "      <th>country</th>\n",
       "      <th>lat</th>\n",
       "      <th>long</th>\n",
       "    </tr>\n",
       "  </thead>\n",
       "  <tbody>\n",
       "    <tr>\n",
       "      <th>0</th>\n",
       "      <td>0</td>\n",
       "      <td>00M</td>\n",
       "      <td>Thigpen</td>\n",
       "      <td>Bay Springs</td>\n",
       "      <td>MS</td>\n",
       "      <td>USA</td>\n",
       "      <td>31.953765</td>\n",
       "      <td>-89.234505</td>\n",
       "    </tr>\n",
       "    <tr>\n",
       "      <th>1</th>\n",
       "      <td>1</td>\n",
       "      <td>00R</td>\n",
       "      <td>Livingston Municipal</td>\n",
       "      <td>Livingston</td>\n",
       "      <td>TX</td>\n",
       "      <td>USA</td>\n",
       "      <td>30.685861</td>\n",
       "      <td>-95.017928</td>\n",
       "    </tr>\n",
       "    <tr>\n",
       "      <th>2</th>\n",
       "      <td>2</td>\n",
       "      <td>00V</td>\n",
       "      <td>Meadow Lake</td>\n",
       "      <td>Colorado Springs</td>\n",
       "      <td>CO</td>\n",
       "      <td>USA</td>\n",
       "      <td>38.945749</td>\n",
       "      <td>-104.569893</td>\n",
       "    </tr>\n",
       "    <tr>\n",
       "      <th>3</th>\n",
       "      <td>3</td>\n",
       "      <td>01G</td>\n",
       "      <td>Perry-Warsaw</td>\n",
       "      <td>Perry</td>\n",
       "      <td>NY</td>\n",
       "      <td>USA</td>\n",
       "      <td>42.741347</td>\n",
       "      <td>-78.052081</td>\n",
       "    </tr>\n",
       "    <tr>\n",
       "      <th>4</th>\n",
       "      <td>4</td>\n",
       "      <td>01J</td>\n",
       "      <td>Hilliard Airpark</td>\n",
       "      <td>Hilliard</td>\n",
       "      <td>FL</td>\n",
       "      <td>USA</td>\n",
       "      <td>30.688012</td>\n",
       "      <td>-81.905944</td>\n",
       "    </tr>\n",
       "  </tbody>\n",
       "</table>\n",
       "</div>"
      ],
      "text/plain": [
       "   index iata               airport              city state country  \\\n",
       "0      0  00M              Thigpen        Bay Springs    MS     USA   \n",
       "1      1  00R  Livingston Municipal        Livingston    TX     USA   \n",
       "2      2  00V           Meadow Lake  Colorado Springs    CO     USA   \n",
       "3      3  01G          Perry-Warsaw             Perry    NY     USA   \n",
       "4      4  01J      Hilliard Airpark          Hilliard    FL     USA   \n",
       "\n",
       "         lat        long  \n",
       "0  31.953765  -89.234505  \n",
       "1  30.685861  -95.017928  \n",
       "2  38.945749 -104.569893  \n",
       "3  42.741347  -78.052081  \n",
       "4  30.688012  -81.905944  "
      ]
     },
     "execution_count": 114,
     "metadata": {},
     "output_type": "execute_result"
    }
   ],
   "source": [
    "query = \"\"\"select * from airports\"\"\"\n",
    "airports = runQuery(query)\n",
    "airports.head()"
   ]
  },
  {
   "cell_type": "code",
   "execution_count": 115,
   "metadata": {
    "collapsed": true
   },
   "outputs": [],
   "source": [
    "# initiate NX objects \n",
    "\n",
    "G=nx.MultiDiGraph()\n",
    "nodes = []\n",
    "sources = []\n",
    "targets = []\n",
    "edgelist = []"
   ]
  },
  {
   "cell_type": "code",
   "execution_count": 116,
   "metadata": {
    "scrolled": false
   },
   "outputs": [],
   "source": [
    "# create a node list from airports \n",
    "for index, airport in airports.iterrows():\n",
    "    airportcode = airport['iata']\n",
    "    name = airport['airport']\n",
    "    long = airport['long']\n",
    "    lat=airport['lat']\n",
    "    state = airport['state'] if airport['state'] != None else 'N/A'\n",
    "    country = airport['country'] if airport['country'] != None else 'N/A'\n",
    "    city = airport['city'] if airport['city'] != None else 'N/A'\n",
    "    #nodes.append(airport['iata'])\n",
    "    G.add_node(airportcode, name=name, long=long,lat=lat,state=state, country=country, city=city)\n",
    "    #print(airport['state'])\n",
    "    "
   ]
  },
  {
   "cell_type": "markdown",
   "metadata": {},
   "source": [
    "## load the edges \n",
    "### possible combinations \n",
    "* load edges from flights that are delayed only?\n",
    "- load edges from unique flights by flight number and replace the repeat flights with a edge weight.\n",
    "- load edges by carrier \n",
    "- load edges by simply ignore the unique flights. All fights from two destinations will be reflected by edge weight. "
   ]
  },
  {
   "cell_type": "code",
   "execution_count": 117,
   "metadata": {
    "scrolled": true
   },
   "outputs": [],
   "source": [
    "# get all flight combinations with edge weight reflective of number of flights\n",
    "query = \"select \\\"Origin\\\", \\\"Dest\\\", count(*) as number_of_flights from flightdetails group by \\\"Origin\\\", \\\"Dest\\\";\"\n",
    "allflights = runQuery(query) \n",
    "\n",
    "# load the edges \n",
    "for index, flights in allflights.iterrows():\n",
    "    #G.add_edge(flights[\"Origin\"], flights[\"Dest\"], weight=flights[\"number_of_flights\"], capacity=15, length=342.7)\n",
    "    #print(flights[\"Origin\"],flights[\"Dest\"], flights[\"number_of_flights\"])\n",
    "    G.add_edge(flights[\"Origin\"], flights[\"Dest\"], weight=flights[\"number_of_flights\"])\n",
    "\n",
    "\n",
    "\n",
    "#print(\"loaded edges including duplicates:\", len(edgeList))\n",
    "#edgeSet = set(edgeList) # dedup with sets\n",
    "#print(\"edge number after dedup:\", len(edgeSet))\n",
    "\n",
    "# load the edges \n",
    "#for edge in edgeSet: \n",
    "#    citeSources.append(edge[0])\n",
    "#    citeTargets.append(edge[1])\n",
    "    \n",
    "#zipped = zip(citeSources, citeTargets)\n",
    "#edges = list(zipped)\n",
    "#GC.add_edges_from(edges)"
   ]
  },
  {
   "cell_type": "code",
   "execution_count": 118,
   "metadata": {},
   "outputs": [
    {
     "name": "stdout",
     "output_type": "stream",
     "text": [
      "number of nodes: 3376\n",
      "number of edges: 3345\n",
      "Graph Density: 0.00029357556608741443\n",
      "Total isolated airports found: 3170\n",
      "number of nodes post isolated: 206\n",
      "number of edges post isolated: 3345\n",
      "Graph Density post isolated: 0.0792090930618044\n"
     ]
    }
   ],
   "source": [
    "# network summary \n",
    "\n",
    "print(\"number of nodes:\", len(G))\n",
    "print(\"number of edges:\", nx.number_of_edges(G))\n",
    "print(\"Graph Density:\", nx.density(G))\n",
    "\n",
    "isolatedAirports = nx.isolates(G) # airports with no flight data?\n",
    "print(\"Total isolated airports found:\", len(isolatedAirports))\n",
    "\n",
    "G.remove_nodes_from(isolatedAirports)\n",
    "\n",
    "print(\"number of nodes post isolated:\", len(G))\n",
    "print(\"number of edges post isolated:\", nx.number_of_edges(G))\n",
    "print(\"Graph Density post isolated:\", nx.density(G))\n"
   ]
  },
  {
   "cell_type": "code",
   "execution_count": 119,
   "metadata": {},
   "outputs": [],
   "source": [
    "# write to a graphml file\n",
    "nx.write_graphml(G, \"flightsOverview.graphml\")"
   ]
  },
  {
   "cell_type": "code",
   "execution_count": 43,
   "metadata": {},
   "outputs": [],
   "source": []
  },
  {
   "cell_type": "code",
   "execution_count": null,
   "metadata": {
    "collapsed": true
   },
   "outputs": [],
   "source": []
  }
 ],
 "metadata": {
  "kernelspec": {
   "display_name": "Python 3",
   "language": "python",
   "name": "python3"
  },
  "language_info": {
   "codemirror_mode": {
    "name": "ipython",
    "version": 3
   },
   "file_extension": ".py",
   "mimetype": "text/x-python",
   "name": "python",
   "nbconvert_exporter": "python",
   "pygments_lexer": "ipython3",
   "version": "3.6.1"
  }
 },
 "nbformat": 4,
 "nbformat_minor": 2
}
