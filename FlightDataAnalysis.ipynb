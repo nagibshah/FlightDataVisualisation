{
 "cells": [
  {
   "cell_type": "markdown",
   "metadata": {},
   "source": [
    "# create a network graph of flight data"
   ]
  },
  {
   "cell_type": "code",
   "execution_count": 10,
   "metadata": {
    "collapsed": true
   },
   "outputs": [],
   "source": [
    "import sqlalchemy as sa\n",
    "import pandas as pd\n",
    "import pprint\n",
    "from datetime import datetime\n",
    "import time\n",
    "from datetime import timedelta\n",
    "import numpy as np\n",
    "import seaborn as sns\n",
    "import matplotlib.pyplot as plt\n",
    "import networkx as nx\n",
    "import math\n",
    "from networkx.drawing.nx_agraph import graphviz_layout\n",
    "\n",
    "CONNECTION_STRING_SQLALCHEMY = 'postgresql://localhost/FlightData'\n",
    "con = sa.create_engine(CONNECTION_STRING_SQLALCHEMY)"
   ]
  },
  {
   "cell_type": "code",
   "execution_count": 11,
   "metadata": {
    "collapsed": true
   },
   "outputs": [],
   "source": [
    "# helper functions \n",
    "def runQuery(sql): \n",
    "    conn = sa.create_engine(CONNECTION_STRING_SQLALCHEMY)\n",
    "    retVal = None\n",
    "    result = pd.read_sql(sql, conn,params=None)\n",
    "    retVal = result\n",
    "    return retVal\n",
    "\n",
    "def setInEdges(collection, source):\n",
    "    for edge in collection: \n",
    "        # create a tuple of (source, target)\n",
    "        edgeTup = (source, edge.text)\n",
    "        edgeList.append(edgeTup)\n",
    "        #citeSources.append(source)\n",
    "        #citeTargets.append(edge.text)\n",
    "\n",
    "def setOutEdges(collection, target):\n",
    "    for edge in collection:\n",
    "        edgeTup = (edge.text, target)\n",
    "        edgeList.append(edgeTup)\n",
    "        #citeSources.append(edge.text)\n",
    "        #citeTargets.append(target)"
   ]
  },
  {
   "cell_type": "markdown",
   "metadata": {
    "collapsed": true
   },
   "source": [
    "## helpers related to data load"
   ]
  },
  {
   "cell_type": "code",
   "execution_count": 12,
   "metadata": {
    "collapsed": true,
    "scrolled": false
   },
   "outputs": [],
   "source": [
    "def loadNodes(G, airports):\n",
    "    # create a node list from airports \n",
    "    for index, airport in airports.iterrows():\n",
    "        airportcode = airport['iata']\n",
    "        name = airport['airport']\n",
    "        long = airport['long']\n",
    "        lat=airport['lat']\n",
    "        state = airport['state'] if airport['state'] != None else 'N/A'\n",
    "        country = airport['country'] if airport['country'] != None else 'N/A'\n",
    "        city = airport['city'] if airport['city'] != None else 'N/A'\n",
    "        G.add_node(airportcode, name=name, long=long,lat=lat,state=state, country=country, city=city)\n",
    "        return G\n",
    "        \n",
    "def loadFlightOverviewEdges(G):\n",
    "    # get all flight combinations with edge weight reflective of number of flights\n",
    "    query = \"select \\\"Origin\\\", \\\"Dest\\\", count(*) as number_of_flights from flightdetails group by \\\"Origin\\\", \\\"Dest\\\";\"\n",
    "    allflights = runQuery(query) \n",
    "    # load the edges \n",
    "    for index, flights in allflights.iterrows():\n",
    "        G.add_edge(flights[\"Origin\"], flights[\"Dest\"], weight=flights[\"number_of_flights\"])\n",
    "    return G\n",
    "\n",
    "def loadAnnualFlightWithDelaySummary(G):\n",
    "    # get all flight combinations with edge weight reflective of number of flights\n",
    "    query = \"select \\\"Origin\\\", \\\"Dest\\\", count(*) as number_of_flights from flightdetails group by \\\"Origin\\\", \\\"Dest\\\";\"\n",
    "    allflights = runQuery(query) \n",
    "\n",
    "    # load the edges \n",
    "    for index, flights in allflights.iterrows():\n",
    "        #G.add_edge(flights[\"Origin\"], flights[\"Dest\"], weight=flights[\"number_of_flights\"], capacity=15, length=342.7)\n",
    "        #print(flights[\"Origin\"],flights[\"Dest\"], flights[\"number_of_flights\"])\n",
    "        G.add_edge(flights[\"Origin\"], flights[\"Dest\"], weight=flights[\"number_of_flights\"])\n",
    "    #print(\"loaded edges including duplicates:\", len(edgeList))\n",
    "    #edgeSet = set(edgeList) # dedup with sets\n",
    "    #print(\"edge number after dedup:\", len(edgeSet))\n",
    "\n",
    "    # load the edges \n",
    "    #for edge in edgeSet: \n",
    "    #    citeSources.append(edge[0])\n",
    "    #    citeTargets.append(edge[1])\n",
    "\n",
    "    #zipped = zip(citeSources, citeTargets)\n",
    "    #edges = list(zipped)\n",
    "    #GC.add_edges_from(edges)\n",
    "    return G\n",
    "\n",
    "def loadAirports():\n",
    "    query = \"\"\"select * from airports\"\"\"\n",
    "    airports = runQuery(query)\n",
    "    airports.head()\n",
    "    return airports\n",
    "    \n",
    "def getOverviewGraph():\n",
    "    \n",
    "    print(\"start graph load\")\n",
    "    \n",
    "    # initiate NX objects \n",
    "    G=nx.MultiDiGraph()\n",
    "    nodes = []\n",
    "    sources = []\n",
    "    targets = []\n",
    "    edgelist = []\n",
    "    \n",
    "    print(\"loading airports\")\n",
    "    airports = loadAirports()\n",
    "    print(\"creating airport nodes\")\n",
    "    G = loadNodes(G, airports)\n",
    "    print(\"Loading edges\")\n",
    "    G = loadFlightOverviewEdges(G)\n",
    "    \n",
    "    # network summary \n",
    "    print(\"number of nodes:\", len(G))\n",
    "    print(\"number of edges:\", nx.number_of_edges(G))\n",
    "    print(\"Graph Density:\", nx.density(G))\n",
    "\n",
    "    isolatedAirports = nx.isolates(G) # airports with no flight data?\n",
    "    print(\"Total isolated airports found:\", len(isolatedAirports))\n",
    "\n",
    "    G.remove_nodes_from(isolatedAirports)\n",
    "\n",
    "    print(\"number of nodes post isolated:\", len(G))\n",
    "    print(\"number of edges post isolated:\", nx.number_of_edges(G))\n",
    "    print(\"Graph Density post isolated:\", nx.density(G))\n",
    "    \n",
    "    print(\"end graph load\")\n",
    "    \n",
    "    return G\n",
    "\n",
    "def getOverviewGraphWithDelaySummary():\n",
    "    \n",
    "    print(\"start graph load\")\n",
    "    \n",
    "    # initiate NX objects \n",
    "    G=nx.MultiDiGraph()\n",
    "    nodes = []\n",
    "    sources = []\n",
    "    targets = []\n",
    "    edgelist = []\n",
    "    \n",
    "    print(\"loading airports\")\n",
    "    airports = loadAirports()\n",
    "    print(\"creating airport nodes\")\n",
    "    G = loadNodes(G, airports)\n",
    "    print(\"Loading edges\")\n",
    "    G = loadAnnualFlightWithDelaySummary(G) # new method to get summary?\n",
    "    \n",
    "    # network summary \n",
    "    print(\"number of nodes:\", len(G))\n",
    "    print(\"number of edges:\", nx.number_of_edges(G))\n",
    "    print(\"Graph Density:\", nx.density(G))\n",
    "\n",
    "    isolatedAirports = nx.isolates(G) # airports with no flight data?\n",
    "    print(\"Total isolated airports found:\", len(isolatedAirports))\n",
    "\n",
    "    G.remove_nodes_from(isolatedAirports)\n",
    "\n",
    "    print(\"number of nodes post isolated:\", len(G))\n",
    "    print(\"number of edges post isolated:\", nx.number_of_edges(G))\n",
    "    print(\"Graph Density post isolated:\", nx.density(G))\n",
    "    \n",
    "    print(\"end graph load\")\n",
    "    \n",
    "    return G\n",
    "    "
   ]
  },
  {
   "cell_type": "markdown",
   "metadata": {},
   "source": [
    "## load the edges \n",
    "### possible combinations \n",
    "* load edges from flights that are delayed only?\n",
    "- load by flight number (capture the unique flights between airports). Repeat flighnts reflected by edge weight.\n",
    "- load edges by carrier (e.g. AA, Delta) \n",
    "- load by all flights (capture any flights between two airports). Repeat flights reflected by edge weight. \n",
    "- Load all flights and save aggregated delay in the nodes (which airport has the most amount of delay?) \n",
    "- load all flights and capture the total number of delays as opposed to delay in minutes. \n",
    "- filter by month. \n",
    "- filter daily? \n",
    "- filter by year? "
   ]
  },
  {
   "cell_type": "code",
   "execution_count": 13,
   "metadata": {
    "scrolled": true
   },
   "outputs": [
    {
     "name": "stdout",
     "output_type": "stream",
     "text": [
      "start graph load\n",
      "loading airports\n",
      "creating airport nodes\n",
      "Loading nodes\n",
      "number of nodes: 207\n",
      "number of edges: 3345\n",
      "Graph Density: 0.07844378781483045\n",
      "Total isolated airports found: 1\n",
      "number of nodes post isolated: 206\n",
      "number of edges post isolated: 3345\n",
      "Graph Density post isolated: 0.0792090930618044\n",
      "end graph load\n"
     ]
    }
   ],
   "source": [
    "G = getOverviewGraph()"
   ]
  },
  {
   "cell_type": "code",
   "execution_count": 14,
   "metadata": {},
   "outputs": [],
   "source": [
    "# write to a graphml file\n",
    "nx.write_graphml(G, \"flightsOverview.graphml\")\n",
    "G = None"
   ]
  },
  {
   "cell_type": "code",
   "execution_count": 119,
   "metadata": {
    "collapsed": true
   },
   "outputs": [],
   "source": []
  },
  {
   "cell_type": "code",
   "execution_count": 43,
   "metadata": {
    "collapsed": true
   },
   "outputs": [],
   "source": []
  },
  {
   "cell_type": "code",
   "execution_count": null,
   "metadata": {
    "collapsed": true
   },
   "outputs": [],
   "source": []
  }
 ],
 "metadata": {
  "kernelspec": {
   "display_name": "Python 3",
   "language": "python",
   "name": "python3"
  },
  "language_info": {
   "codemirror_mode": {
    "name": "ipython",
    "version": 3
   },
   "file_extension": ".py",
   "mimetype": "text/x-python",
   "name": "python",
   "nbconvert_exporter": "python",
   "pygments_lexer": "ipython3",
   "version": "3.6.1"
  }
 },
 "nbformat": 4,
 "nbformat_minor": 2
}
