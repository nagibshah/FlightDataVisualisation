{
 "cells": [
  {
   "cell_type": "code",
   "execution_count": 1,
   "metadata": {
    "collapsed": true
   },
   "outputs": [],
   "source": [
    "\n",
    "\n",
    "import numpy as np\n",
    "AUS_N=289565\n",
    "ORD_N=2063980\n",
    "AUS_mu,ORD_sigma=18.16,13.14\n",
    "AUS_mu,ORD_sigma=29.14,0.71\n",
    "\n",
    "\n",
    "#Percentage Delay for EA and HA airlines by month\n",
    "AUS_data=[14,26,13,17,11,16,16,17,14,16,17,100,16,\n",
    "         29,7,16,14,21,16,8,22,28,15,16,15,24,16,\n",
    "         13,14,14,12,23,17,26,31,18,22,8,14,13,16,\n",
    "         26,18,15,6,8,15,20,7,12]\n",
    "\n",
    "ORD_data=[31,34,25,37,35,28,26,31,33,20,28,30,23,28,\n",
    "          31,36,29,31,28,25,25,31,36,28,28,30,25,28,\n",
    "          26,30,29,35,32,29,24,27,23,25,24,26,31,30,\n",
    "          28,25,42,31,22,38,25,30]\n",
    "\n",
    "\n",
    "            \n"
   ]
  },
  {
   "cell_type": "code",
   "execution_count": 2,
   "metadata": {},
   "outputs": [
    {
     "data": {
      "image/png": "[encoded data removed]",
      "text/plain": [
       "<matplotlib.figure.Figure at 0x1b25e50fcf8>"
      ]
     },
     "metadata": {},
     "output_type": "display_data"
    }
   ],
   "source": [
    "%matplotlib inline\n",
    "import matplotlib.pyplot as plt\n",
    "import matplotlib.patches as mpatches\n",
    "start,end,n_bins = 0,50,50\n",
    "_,_,_ = plt.hist(ORD_data, bins=n_bins, range=(start,end), color='blue')\n",
    "_,_,_ = plt.hist(AUS_data, bins=n_bins, range=(start,end), color='red')\n",
    "_ = plt.legend(handles=[mpatches.Patch(color='blue', label='OHare International Airport'),\n",
    "                        mpatches.Patch(color='red', label='Austin–Bergstrom International Airport')])\n",
    "_ = plt.xlabel('Delay Percentage')\n",
    "_ = plt.ylabel('Count of Delay Percentage')"
   ]
  },
  {
   "cell_type": "code",
   "execution_count": 3,
   "metadata": {},
   "outputs": [
    {
     "name": "stdout",
     "output_type": "stream",
     "text": [
      "True\n",
      "2.4974769606e-07\n"
     ]
    }
   ],
   "source": [
    "#Check Anova test to disprove Null Hypothesis\n",
    "\n",
    "from scipy import stats\n",
    "anova_result = stats.f_oneway(ORD_data, AUS_data)\n",
    "print(bool(anova_result.pvalue < 0.05))\n",
    "print(anova_result.pvalue)"
   ]
  },
  {
   "cell_type": "code",
   "execution_count": 4,
   "metadata": {},
   "outputs": [
    {
     "name": "stdout",
     "output_type": "stream",
     "text": [
      "2.49809315473e-13\n"
     ]
    }
   ],
   "source": [
    "#Check Kruskal Wallis to verify result\n",
    "\n",
    "kw_result = stats.kruskal(ORD_data, AUS_data)\n",
    "print(kw_result.pvalue)\n"
   ]
  },
  {
   "cell_type": "code",
   "execution_count": null,
   "metadata": {
    "collapsed": true
   },
   "outputs": [],
   "source": []
  },
  {
   "cell_type": "code",
   "execution_count": null,
   "metadata": {
    "collapsed": true
   },
   "outputs": [],
   "source": []
  }
 ],
 "metadata": {
  "kernelspec": {
   "display_name": "Python 3",
   "language": "python",
   "name": "python3"
  },
  "language_info": {
   "codemirror_mode": {
    "name": "ipython",
    "version": 3
   },
   "file_extension": ".py",
   "mimetype": "text/x-python",
   "name": "python",
   "nbconvert_exporter": "python",
   "pygments_lexer": "ipython3",
   "version": "3.6.1"
  }
 },
 "nbformat": 4,
 "nbformat_minor": 2
}
