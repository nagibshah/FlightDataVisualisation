{
 "cells": [
  {
   "cell_type": "code",
   "execution_count": 1,
   "metadata": {
    "collapsed": true
   },
   "outputs": [],
   "source": [
    "import sqlalchemy as sa\n",
    "import pandas as pd\n",
    "import csv\n",
    "import pprint\n",
    "from datetime import datetime\n",
    "import time\n",
    "from datetime import timedelta\n",
    "import numpy as np\n",
    "import seaborn as sns\n",
    "import matplotlib.pyplot as plt\n",
    "\n",
    "CONNECTION_STRING_SQLALCHEMY = 'postgresql://localhost/FlightData'\n",
    "con = sa.create_engine(CONNECTION_STRING_SQLALCHEMY)"
   ]
  },
  {
   "cell_type": "code",
   "execution_count": 23,
   "metadata": {
    "collapsed": true
   },
   "outputs": [],
   "source": [
    "# helper functions \n",
    "\n",
    "def loadFlightDataToDB(chunks, tablename):\n",
    "    start = time.time()\n",
    "    print(\"start - Load all flight data\")\n",
    "\n",
    "    for chunk in chunks:\n",
    "        # transform day, month, and year into datetime\n",
    "        flightDate = str(chunk.Year.values[0]) + \"-\" + str(chunk.Month.values[0]) + \"-\" + str(chunk.DayofMonth.values[0])\n",
    "        flightDate = datetime.strptime(flightDate, '%Y-%m-%d').date()\n",
    "        chunk[\"FlightDate\"] = flightDate\n",
    "        # check for double precision errors \n",
    "        if not isinstance(chunk[\"CancellationCode\"], float): \n",
    "            chunk[\"CancellationCode\"] = 0.00 # override values\n",
    "        # change the order \n",
    "        chunk2 = chunk[[ \\\n",
    "            'FlightDate','DayOfWeek','DepTime','CRSDepTime','ArrTime','CRSArrTime','UniqueCarrier','FlightNum', \\\n",
    "            'TailNum','ActualElapsedTime','CRSElapsedTime','AirTime','ArrDelay','DepDelay','Origin','Dest', \\\n",
    "            'Distance','TaxiIn','TaxiOut','Cancelled','CancellationCode','Diverted','CarrierDelay','WeatherDelay', \\\n",
    "            'NASDelay','SecurityDelay','LateAircraftDelay']]\n",
    "        try:\n",
    "            # write to db \n",
    "            chunk2.to_sql(name=tablename, schema='public', if_exists='append', con=con)\n",
    "        except (psycopg2.DataError) as err: \n",
    "            print(\"error occured: {0}\".format(err))\n",
    "        except (RuntimeError, TypeError, NameError, DataError) as err:\n",
    "            print(\"error occured: {0}\".format(err))\n",
    "            \n",
    "\n",
    "    print(\"End - load all flight data\")\n",
    "    print(\"Execution time = {:0>8}\".format(time.time() - start))\n",
    "\n",
    "    \n",
    "def loadToDB(chunks, tablename):     \n",
    "    start = time.time()\n",
    "    print(\"start - Load data into:\", tablename)\n",
    "\n",
    "    for chunk in chunks:\n",
    "        chunk.to_sql(name=tablename, schema='public', if_exists='append', con=con)\n",
    "\n",
    "    print(\"End - load all data into:\",tablename)\n",
    "    print(\"Execution time = {:0>8}\".format(time.time() - start))\n",
    "    "
   ]
  },
  {
   "cell_type": "markdown",
   "metadata": {},
   "source": [
    "# load the data for year 2000"
   ]
  },
  {
   "cell_type": "code",
   "execution_count": 24,
   "metadata": {},
   "outputs": [
    {
     "name": "stdout",
     "output_type": "stream",
     "text": [
      "start - Load all flight data\n",
      "End - load all flight data\n",
      "Execution time = 1142.3126039505005\n"
     ]
    }
   ],
   "source": [
    "# import the data\n",
    "#chunks = pd.read_csv('FlightData/2000.csv', chunksize=10, nrows=5) # only work on a small chunk\n",
    "chunks = pd.read_csv('FlightData/2000.csv', chunksize=20000)\n",
    "loadFlightDataToDB(chunks, tablename=\"flightdata2000\")\n"
   ]
  },
  {
   "cell_type": "markdown",
   "metadata": {},
   "source": [
    "# load the data for 2001"
   ]
  },
  {
   "cell_type": "code",
   "execution_count": 25,
   "metadata": {},
   "outputs": [
    {
     "name": "stdout",
     "output_type": "stream",
     "text": [
      "start - Load all flight data\n",
      "End - load all flight data\n",
      "Execution time = 1241.4344038963318\n"
     ]
    }
   ],
   "source": [
    "chunks = pd.read_csv('FlightData/2001.csv', chunksize=20000, encoding=\"latin-1\")\n",
    "loadFlightDataToDB(chunks, tablename=\"flightdata2001\")"
   ]
  },
  {
   "cell_type": "markdown",
   "metadata": {},
   "source": [
    "# load the data for 2002"
   ]
  },
  {
   "cell_type": "code",
   "execution_count": 26,
   "metadata": {},
   "outputs": [
    {
     "name": "stdout",
     "output_type": "stream",
     "text": [
      "start - Load all flight data\n",
      "End - load all flight data\n",
      "Execution time = 1103.5424029827118\n"
     ]
    }
   ],
   "source": [
    "chunks = pd.read_csv('FlightData/2002.csv', chunksize=20000, encoding=\"latin-1\")\n",
    "loadFlightDataToDB(chunks, tablename=\"flightdata2002\")"
   ]
  },
  {
   "cell_type": "markdown",
   "metadata": {},
   "source": [
    "# load the data for 2003"
   ]
  },
  {
   "cell_type": "code",
   "execution_count": 27,
   "metadata": {
    "scrolled": false
   },
   "outputs": [
    {
     "name": "stdout",
     "output_type": "stream",
     "text": [
      "start - Load all flight data\n",
      "End - load all flight data\n",
      "Execution time = 1364.3699977397919\n"
     ]
    }
   ],
   "source": [
    "chunks = pd.read_csv('FlightData/2003.csv', chunksize=20000)\n",
    "loadFlightDataToDB(chunks, tablename=\"flightdata2003\")"
   ]
  },
  {
   "cell_type": "markdown",
   "metadata": {},
   "source": [
    "# load the data for 2004"
   ]
  },
  {
   "cell_type": "code",
   "execution_count": 28,
   "metadata": {},
   "outputs": [
    {
     "name": "stdout",
     "output_type": "stream",
     "text": [
      "start - Load all flight data\n",
      "End - load all flight data\n",
      "Execution time = 1933.6525077819824\n"
     ]
    }
   ],
   "source": [
    "chunks = pd.read_csv('FlightData/2004.csv', chunksize=20000)\n",
    "loadFlightDataToDB(chunks, tablename=\"flightdata2004\")"
   ]
  },
  {
   "cell_type": "markdown",
   "metadata": {},
   "source": [
    "# load the data for 2005"
   ]
  },
  {
   "cell_type": "code",
   "execution_count": 29,
   "metadata": {},
   "outputs": [
    {
     "name": "stdout",
     "output_type": "stream",
     "text": [
      "start - Load all flight data\n",
      "End - load all flight data\n",
      "Execution time = 2247.035789012909\n"
     ]
    }
   ],
   "source": [
    "chunks = pd.read_csv('FlightData/2005.csv', chunksize=20000)\n",
    "loadFlightDataToDB(chunks, tablename=\"flightdata2005\")"
   ]
  },
  {
   "cell_type": "code",
   "execution_count": 42,
   "metadata": {},
   "outputs": [
    {
     "name": "stdout",
     "output_type": "stream",
     "text": [
      "start - Load data into: airports\n",
      "End - load all data into: airports\n",
      "Execution time = 0.4398958683013916\n",
      "start - Load data into: carriers\n",
      "End - load all data into: carriers\n",
      "Execution time = 0.11830401420593262\n",
      "start - Load data into: plane_data\n",
      "End - load all data into: plane_data\n",
      "Execution time = 0.5244190692901611\n"
     ]
    }
   ],
   "source": [
    "\n",
    "# load the airport data   \n",
    "airportChunks = pd.read_csv('FlightData/supplements/airports.csv', chunksize=5000)\n",
    "loadToDB(airportChunks, \"airports\")\n",
    "# load the carrier data\n",
    "carrierChunks = pd.read_csv('FlightData/supplements/carriers.csv', chunksize=5000)\n",
    "loadToDB(carrierChunks, \"carriers\")\n",
    "# plane data \n",
    "planeChunks = pd.read_csv('FlightData/supplements/plane-data.csv', chunksize=5000)\n",
    "loadToDB(planeChunks, \"plane_data\")\n",
    "\n"
   ]
  },
  {
   "cell_type": "code",
   "execution_count": null,
   "metadata": {
    "collapsed": true
   },
   "outputs": [],
   "source": []
  }
 ],
 "metadata": {
  "kernelspec": {
   "display_name": "Python 3",
   "language": "python",
   "name": "python3"
  },
  "language_info": {
   "codemirror_mode": {
    "name": "ipython",
    "version": 3
   },
   "file_extension": ".py",
   "mimetype": "text/x-python",
   "name": "python",
   "nbconvert_exporter": "python",
   "pygments_lexer": "ipython3",
   "version": "3.6.1"
  }
 },
 "nbformat": 4,
 "nbformat_minor": 2
}
