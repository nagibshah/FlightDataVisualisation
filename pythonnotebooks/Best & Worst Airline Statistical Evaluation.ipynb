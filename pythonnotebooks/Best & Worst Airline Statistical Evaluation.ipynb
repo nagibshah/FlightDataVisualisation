{
 "cells": [
  {
   "cell_type": "code",
   "execution_count": 11,
   "metadata": {},
   "outputs": [],
   "source": [
    "\n",
    "\n",
    "import numpy as np\n",
    "HA_N=289565\n",
    "EV_N=2063980\n",
    "EV_mu,EV_sigma=24.91,7.4\n",
    "HA_mu,HA_sigma=5.2,2.73\n",
    "\n",
    "\n",
    "#Percentage Delay for EA and HA airlines by month\n",
    "EV_data=[28,25,25,\n",
    "16,25,22,28,17,16,15,12,10,30,23,19,17,\n",
    "27,32,33,23,16,20,18,24,31,30,23,23,39,\n",
    "38,41,23,33,23,31,41,25,26,41,33,42,40,\n",
    "21,26,19,32,25,33,28,34,26,22,21,28,15,\n",
    "21,23,34,24,28,18,15]\n",
    "\n",
    "HA_data=[10,6,3,2,4,7,4,5,4,4,11,2,6,\n",
    "8,3,2,5,5,2,3,3,8,6,4,3,3,\n",
    "3,3,8,6,8,4,3,3,8,4,5,5,4,\n",
    "5,6,4,6,5,6,7,5,4,6,7,17,8,\n",
    "6,13,8,7,4,9,4,4,8,6]\n",
    "\n",
    "\n",
    "            \n"
   ]
  },
  {
   "cell_type": "code",
   "execution_count": 12,
   "metadata": {},
   "outputs": [
    {
     "data": {
      "image/png": "[encoded data removed]",
      "text/plain": [
       "<matplotlib.figure.Figure at 0x190d76e5a20>"
      ]
     },
     "metadata": {},
     "output_type": "display_data"
    }
   ],
   "source": [
    "%matplotlib inline\n",
    "import matplotlib.pyplot as plt\n",
    "import matplotlib.patches as mpatches\n",
    "start,end,n_bins = 0,50,50\n",
    "_,_,_ = plt.hist(EV_data, bins=n_bins, range=(start,end), color='blue')\n",
    "_,_,_ = plt.hist(HA_data, bins=n_bins, range=(start,end), color='red')\n",
    "_ = plt.legend(handles=[mpatches.Patch(color='blue', label='Atlantic Southeast Airlines'),\n",
    "                        mpatches.Patch(color='red', label='Hawaiian Airlines Inc')])\n",
    "_ = plt.xlabel('Delay Percentage')\n",
    "_ = plt.ylabel('Count of Delay Percentage')"
   ]
  },
  {
   "cell_type": "code",
   "execution_count": 17,
   "metadata": {},
   "outputs": [
    {
     "name": "stdout",
     "output_type": "stream",
     "text": [
      "True\n",
      "4.1059403272e-39\n"
     ]
    }
   ],
   "source": [
    "#Check Anova test to disprove Null Hypothesis\n",
    "\n",
    "from scipy import stats\n",
    "anova_result = stats.f_oneway(EV_data, HA_data)\n",
    "print(bool(anova_result.pvalue < 0.05))\n",
    "print(anova_result.pvalue)"
   ]
  },
  {
   "cell_type": "code",
   "execution_count": 18,
   "metadata": {},
   "outputs": [
    {
     "name": "stdout",
     "output_type": "stream",
     "text": [
      "1.20170973441e-21\n"
     ]
    }
   ],
   "source": [
    "#Check Kruskal Wallis to verify result\n",
    "\n",
    "kw_result = stats.kruskal(EV_data, HA_data)\n",
    "print(kw_result.pvalue)\n"
   ]
  },
  {
   "cell_type": "code",
   "execution_count": null,
   "metadata": {
    "collapsed": true
   },
   "outputs": [],
   "source": []
  },
  {
   "cell_type": "code",
   "execution_count": null,
   "metadata": {
    "collapsed": true
   },
   "outputs": [],
   "source": []
  }
 ],
 "metadata": {
  "kernelspec": {
   "display_name": "Python 3",
   "language": "python",
   "name": "python3"
  },
  "language_info": {
   "codemirror_mode": {
    "name": "ipython",
    "version": 3
   },
   "file_extension": ".py",
   "mimetype": "text/x-python",
   "name": "python",
   "nbconvert_exporter": "python",
   "pygments_lexer": "ipython3",
   "version": "3.6.1"
  }
 },
 "nbformat": 4,
 "nbformat_minor": 2
}
